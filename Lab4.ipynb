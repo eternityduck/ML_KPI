{
  "cells": [
    {
      "cell_type": "markdown",
      "metadata": {
        "id": "view-in-github",
        "colab_type": "text"
      },
      "source": [
        "<a href=\"https://colab.research.google.com/github/eternityduck/ML_KPI/blob/main/Lab4.ipynb\" target=\"_parent\"><img src=\"https://colab.research.google.com/assets/colab-badge.svg\" alt=\"Open In Colab\"/></a>"
      ]
    },
    {
      "cell_type": "markdown",
      "metadata": {
        "id": "w5S4XCUZ6GH7"
      },
      "source": [
        "## Imports"
      ]
    },
    {
      "cell_type": "code",
      "execution_count": null,
      "metadata": {
        "id": "BOjujz601HcS"
      },
      "outputs": [],
      "source": [
        "import tensorflow as tf\n",
        "import numpy as np\n",
        "import matplotlib.pyplot as plt\n",
        "import pandas as pd\n",
        "from google.colab import drive\n",
        "from google.colab import files\n",
        "import zipfile\n",
        "from tensorflow.keras.optimizers import RMSprop\n",
        "\n",
        "drive.mount('/content/drive')\n",
        "\n",
        "local_zip = 'drive/MyDrive/KPI/AI/cats-or-dogs.zip'  #'./cats-or-dogs.zip'\n",
        "zip_ref = zipfile.ZipFile(local_zip, 'r')\n",
        "zip_ref.extractall('./cats-or-dogs')\n",
        "zip_ref.close()\n",
        "\n"
      ]
    },
    {
      "cell_type": "markdown",
      "metadata": {
        "id": "tjC8TSkp6IiH"
      },
      "source": [
        "## Pipeline"
      ]
    },
    {
      "cell_type": "code",
      "source": [
        "import os\n",
        "import shutil\n",
        "\n",
        "shutil.rmtree(\"./cats-or-dogs/.ipynb_checkpoints\")\n",
        "shutil.rmtree(\"./validation-cats-or-dogs/.ipynb_checkpoints\")"
      ],
      "metadata": {
        "id": "lT4vdCkLzjfj"
      },
      "execution_count": null,
      "outputs": []
    },
    {
      "cell_type": "code",
      "execution_count": null,
      "metadata": {
        "id": "Zswl7jRtGzkk"
      },
      "outputs": [],
      "source": [
        "\n",
        "from tensorflow.keras.preprocessing.image import ImageDataGenerator\n",
        "\n",
        "# All images will be rescaled by 1./255\n",
        "train_datagen = ImageDataGenerator(rescale=1./255)\n",
        "validation_datagen = ImageDataGenerator(rescale=1./255)\n",
        "\n",
        "# Flow training images in batches of 128 using train_datagen generator\n",
        "train_generator = train_datagen.flow_from_directory(\n",
        "        './cats-or-dogs',  # This is the source directory for training images\n",
        "        target_size=(224, 224),  # All images will be resized to 224x224\n",
        "        #batch_size=128,\n",
        "        class_mode = 'binary'\n",
        "        )\n",
        "\n",
        "validation_generator = validation_datagen.flow_from_directory(\n",
        "        './validation-cats-or-dogs/',  # This is the source directory for validation images\n",
        "        target_size=(224, 224),  # All images will be resized to 224x224\n",
        "        #batch_size=32,\n",
        "        class_mode = 'binary'\n",
        "        )"
      ]
    },
    {
      "cell_type": "markdown",
      "metadata": {
        "id": "Z1CL6Bh86TS1"
      },
      "source": [
        "## Deep NN\n"
      ]
    },
    {
      "cell_type": "code",
      "execution_count": null,
      "metadata": {
        "id": "5MFtI3X1FErU"
      },
      "outputs": [],
      "source": [
        "deep_model = tf.keras.models.Sequential([\n",
        "    tf.keras.layers.Flatten(),\n",
        "    tf.keras.layers.Dense(512, activation='relu'),\n",
        "    tf.keras.layers.Dense(256, activation='relu'),\n",
        "    tf.keras.layers.Dense(128, activation='relu'),\n",
        "    # Only 1 output neuron. It will contain a value from 0-1 where 0 for 1 class ('cats') and 1 for the other ('dogs')\n",
        "    tf.keras.layers.Dense(1, activation='sigmoid')\n",
        "])\n",
        "\n",
        "deep_model.compile(loss='binary_crossentropy',\n",
        "              optimizer=tf.keras.optimizers.Adam(learning_rate=0.001),\n",
        "              metrics=['accuracy'])\n",
        "\n",
        "deep_history = deep_model.fit(\n",
        "      train_generator,\n",
        "      steps_per_epoch=16,\n",
        "      epochs=10,\n",
        "      validation_data = validation_generator,\n",
        "      validation_steps=8,\n",
        "      verbose=1)"
      ]
    },
    {
      "cell_type": "markdown",
      "source": [
        "## Conv NN"
      ],
      "metadata": {
        "id": "mJpPsRo3hfKs"
      }
    },
    {
      "cell_type": "code",
      "source": [
        "conv_model = tf.keras.models.Sequential([\n",
        "    tf.keras.layers.Conv2D(16, (3,3), activation='relu', input_shape=(224, 224, 3)),\n",
        "    tf.keras.layers.MaxPooling2D(2, 2),\n",
        "    tf.keras.layers.Conv2D(32, (3,3), activation='relu'),\n",
        "\n",
        "    tf.keras.layers.Flatten(),\n",
        "    tf.keras.layers.Dense(512, activation='relu'),\n",
        "    tf.keras.layers.Dense(1, activation='sigmoid')\n",
        "])\n",
        "\n",
        "conv_model.compile(loss='binary_crossentropy',\n",
        "              optimizer=tf.keras.optimizers.Adam(learning_rate=0.001),\n",
        "              metrics=['accuracy'])\n",
        "\n",
        "conv_history = conv_model.fit(\n",
        "      train_generator,\n",
        "      steps_per_epoch=16,\n",
        "      epochs=8,\n",
        "      validation_data = validation_generator,\n",
        "      validation_steps=8,\n",
        "      verbose=1)"
      ],
      "metadata": {
        "id": "rxcvejTahhfU"
      },
      "execution_count": null,
      "outputs": []
    },
    {
      "cell_type": "markdown",
      "metadata": {
        "id": "t2YvxWcI6lnB"
      },
      "source": [
        "## VGG19"
      ]
    },
    {
      "cell_type": "code",
      "execution_count": null,
      "metadata": {
        "id": "Db9kkYnOFKYr"
      },
      "outputs": [],
      "source": [
        "vgg19_model = tf.keras.applications.VGG19(\n",
        "    include_top=False,\n",
        "    weights='imagenet',\n",
        "    input_tensor=None,\n",
        "    input_shape=(224,224,3),\n",
        "    pooling=None,\n",
        "    classes=2,\n",
        "    classifier_activation='sigmoid'\n",
        ")\n",
        "\n",
        "for layer in vgg19_model.layers:\n",
        "  layer.trainable = False\n",
        "\n",
        "top_model = tf.keras.models.Sequential([\n",
        "    vgg19_model,\n",
        "    tf.keras.layers.Flatten(),\n",
        "    tf.keras.layers.Dense(512, activation='relu'),\n",
        "    tf.keras.layers.Dense(1, activation='sigmoid')\n",
        "])\n",
        "\n",
        "top_model.compile(loss='binary_crossentropy',\n",
        "              optimizer=tf.keras.optimizers.Adam(learning_rate=0.001),\n",
        "              metrics=['accuracy'])\n",
        "\n",
        "vg_history = top_model.fit(\n",
        "      train_generator,\n",
        "      steps_per_epoch=16,\n",
        "      epochs=7,\n",
        "      validation_data = validation_generator,\n",
        "      validation_steps=8,\n",
        "      verbose=1)"
      ]
    },
    {
      "cell_type": "markdown",
      "source": [
        "## ResNet"
      ],
      "metadata": {
        "id": "DpTzP6jYfvqo"
      }
    },
    {
      "cell_type": "code",
      "source": [
        "resnet_model = tf.keras.applications.resnet50.ResNet50(\n",
        "    include_top=False,\n",
        "    weights='imagenet',\n",
        "    input_tensor=None,\n",
        "    input_shape=(224,224,3),\n",
        "    pooling=None,\n",
        "    classes=2,\n",
        "    classifier_activation='sigmoid'\n",
        ")\n",
        "\n",
        "for layer in resnet_model.layers:\n",
        "  layer.trainable = False\n",
        "\n",
        "res_top_model = tf.keras.models.Sequential([\n",
        "    resnet_model,\n",
        "    tf.keras.layers.Flatten(),\n",
        "    tf.keras.layers.Dense(512, activation='relu'),\n",
        "    tf.keras.layers.Dense(1, activation='sigmoid')\n",
        "])\n",
        "\n",
        "res_top_model.compile(loss='binary_crossentropy',\n",
        "              optimizer=tf.keras.optimizers.Adam(learning_rate=0.001),\n",
        "              metrics=['accuracy'])\n",
        "\n",
        "res_history = res_top_model.fit(\n",
        "      train_generator,\n",
        "      steps_per_epoch=16,\n",
        "      epochs=7,\n",
        "      validation_data = validation_generator,\n",
        "      validation_steps=8,\n",
        "      verbose=1)"
      ],
      "metadata": {
        "id": "iS_BZKRbfz9n"
      },
      "execution_count": null,
      "outputs": []
    },
    {
      "cell_type": "code",
      "source": [
        "def plotilka_loss_epochs(history):\n",
        "  plt.plot(history['loss'], label='Test')\n",
        "  plt.plot(history['val_loss'], label='Train')\n",
        "\n",
        "  plt.xlabel('Epochs')\n",
        "  plt.ylabel('Loss')\n",
        "  plt.legend()\n",
        "  plt.show()\n",
        "\n",
        "def plotilka_acc_epochs(history):\n",
        "  plt.plot(history['accuracy'], label='Test')\n",
        "  plt.plot(history['val_accuracy'], label='Train')\n",
        "\n",
        "  plt.xlabel('Epochs')\n",
        "  plt.ylabel('Accuracy')\n",
        "  plt.legend()\n",
        "  plt.show()\n",
        "\n",
        "plotilka_acc_epochs(deep_history.history)\n",
        "plotilka_loss_epochs(deep_history.history)\n",
        "plotilka_acc_epochs(conv_history.history)\n",
        "plotilka_loss_epochs(conv_history.history)\n",
        "plotilka_acc_epochs(vg_history.history)\n",
        "plotilka_loss_epochs(vg_history.history)\n",
        "plotilka_acc_epochs(res_history.history)\n",
        "plotilka_loss_epochs(res_history.history)"
      ],
      "metadata": {
        "id": "ioZ2l39bA39f"
      },
      "execution_count": null,
      "outputs": []
    },
    {
      "cell_type": "markdown",
      "source": [
        "#Conclusion\n",
        "\n",
        "In conclusion, the task involved building and comparing different models for classifying images of dogs and cats from a dataset. The models implemented were:\n",
        "\n",
        "a) A fully connected network with three hidden layers, considering one-dimensional vectors as input.\n",
        "\n",
        "b) A convolutional neural network with two convolutional and sub-sampling units.\n",
        "\n",
        "c) Transfer learning with the VGG19 and ResNet models, utilizing pre-trained weights, freezing the fully connected layers, and retraining on new data.\n",
        "\n",
        "The performance of each model was compared, and it was observed that VGG19 outperformed the other models.\n",
        "\n",
        "To address the potential issue of overfitting, the number of training epochs for models (a) and (b) was increased, and learning curves were plotted. These curves demonstrated the phenomenon of overfitting, where the models performed well on training data but struggled to generalize to new, unseen data.\n",
        "\n",
        "In summary, VGG19 proved to be the most effective model for the given image classification task. The comparison of different architectures and the exploration of transfer learning techniques provided insights into the strengths and limitations of each approach, contributing to a comprehensive understanding of image classification models."
      ],
      "metadata": {
        "id": "duIu_KHU2PgE"
      }
    }
  ],
  "metadata": {
    "colab": {
      "private_outputs": true,
      "provenance": [],
      "include_colab_link": true
    },
    "kernelspec": {
      "display_name": "Python 3",
      "language": "python",
      "name": "python3"
    },
    "language_info": {
      "codemirror_mode": {
        "name": "ipython",
        "version": 3
      },
      "file_extension": ".py",
      "mimetype": "text/x-python",
      "name": "python",
      "nbconvert_exporter": "python",
      "pygments_lexer": "ipython3",
      "version": "3.7.4"
    }
  },
  "nbformat": 4,
  "nbformat_minor": 0
}