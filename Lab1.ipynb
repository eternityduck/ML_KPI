{
  "cells": [
    {
      "cell_type": "markdown",
      "metadata": {
        "id": "view-in-github",
        "colab_type": "text"
      },
      "source": [
        "<a href=\"https://colab.research.google.com/github/eternityduck/ML_KPI/blob/main/Lab1.ipynb\" target=\"_parent\"><img src=\"https://colab.research.google.com/assets/colab-badge.svg\" alt=\"Open In Colab\"/></a>"
      ]
    },
    {
      "cell_type": "markdown",
      "metadata": {
        "id": "_Rn7ihJpZw0E"
      },
      "source": [
        "<a href=\"https://colab.research.google.com/github/https-deeplearning-ai/tensorflow-1-public/blob/main/C4/W2/ungraded_labs/C4_W2_Lab_3_deep_NN.ipynb\" target=\"_parent\"><img src=\"https://colab.research.google.com/assets/colab-badge.svg\" alt=\"Open In Colab\"/></a>"
      ]
    },
    {
      "cell_type": "markdown",
      "metadata": {
        "id": "w5S4XCUZ6GH7"
      },
      "source": [
        "## Imports"
      ]
    },
    {
      "cell_type": "code",
      "execution_count": null,
      "metadata": {
        "id": "BOjujz601HcS"
      },
      "outputs": [],
      "source": [
        "%pip install tensorflow_decision_forests\n",
        "import tensorflow as tf\n",
        "import numpy as np\n",
        "import matplotlib.pyplot as plt\n",
        "import tensorflow_decision_forests as tfdf\n",
        "from google.colab import drive\n",
        "drive.mount('/content/drive')\n",
        "import pandas as pd\n",
        "\n",
        "# Replace the file ID with your own\n",
        "file_id = '1eKw4Z67VTlfML7j1cfx2b3V76mEqEDm5'\n",
        "link = f'https://drive.google.com/uc?id={file_id}'\n",
        "df = pd.read_csv(link)\n",
        "df_tfdf = tfdf.keras.pd_dataframe_to_tf_dataset(df, label=\"Activity\")\n",
        "target = df.pop(\"Activity\")"
      ]
    },
    {
      "cell_type": "markdown",
      "metadata": {
        "id": "tjC8TSkp6IiH"
      },
      "source": [
        "## Utilities"
      ]
    },
    {
      "cell_type": "code",
      "execution_count": null,
      "metadata": {
        "id": "Zswl7jRtGzkk"
      },
      "outputs": [],
      "source": [
        "from sklearn.metrics import auc\n",
        "df_tens = tf.convert_to_tensor(df)\n",
        "print(df.head(10))\n",
        "\n",
        "def plotilka_precision_recall(history):\n",
        "  plt.figure()\n",
        "  plt.step(history['recall'], history['precision'], where='post' )\n",
        "  plt.xlabel('Recall')\n",
        "  plt.ylabel('Precision')\n",
        "  plt.xlim(min(history['recall']), max(history['recall']))\n",
        "  plt.ylim(min(history['precision']), max(history['precision']))\n",
        "  plt.title('Precision-Recall Curve')\n",
        "  plt.show()\n",
        "  plt.close()\n",
        "\n",
        "def plotilka_ROC(history):\n",
        "  fpr = history['false_positives']\n",
        "  tpr = history['true_positives']\n",
        "  roc_auc = history['auc']\n",
        "  # roc_auc = auc(fpr, tpr)\n",
        "  plt.figure(figsize=(8, 6))\n",
        "  plt.plot(fpr, tpr, color='darkorange', lw=2, label=f'ROC curve (AUC = {max(roc_auc):.2f})')\n",
        "  plt.plot([0, 1], [0, 1], color='navy', lw=2, linestyle='--')\n",
        "  plt.ylim([min(tpr), max(tpr)])\n",
        "  plt.xlim([min(fpr), max(fpr)])\n",
        "  plt.ylabel('True Positive Rate')\n",
        "  plt.xlabel('False Positive Rate')\n",
        "  plt.title('Receiver Operating Characteristic (ROC) Curve')\n",
        "  plt.legend(loc='lower right')\n",
        "  plt.grid(True)\n",
        "  plt.show()\n",
        "  plt.close()"
      ]
    },
    {
      "cell_type": "markdown",
      "metadata": {
        "id": "Z1CL6Bh86TS1"
      },
      "source": [
        "## Shallow Tree"
      ]
    },
    {
      "cell_type": "code",
      "execution_count": null,
      "metadata": {
        "id": "5MFtI3X1FErU"
      },
      "outputs": [],
      "source": [
        "from tensorflow.keras.optimizers import RMSprop\n",
        "from tensorflow.keras.metrics import *\n",
        "\n",
        "shallow_model = tf.keras.Sequential([\n",
        "  tf.keras.layers.Dense(1777, activation='relu'),\n",
        "  tf.keras.layers.Dense(1, activation='sigmoid'),\n",
        "])\n",
        "\n",
        "shallow_model.compile(optimizer=RMSprop(learning_rate=1e-4),\n",
        "              loss=tf.keras.losses.BinaryCrossentropy(),\n",
        "              metrics=['Precision', 'accuracy', Recall(name=\"recall\"), F1Score(), \"TruePositives\", \"FalsePositives\", \"AUC\"])\n",
        "\n"
      ]
    },
    {
      "cell_type": "markdown",
      "metadata": {
        "id": "t2YvxWcI6lnB"
      },
      "source": [
        "## Fit"
      ]
    },
    {
      "cell_type": "code",
      "execution_count": null,
      "metadata": {
        "id": "Db9kkYnOFKYr"
      },
      "outputs": [],
      "source": [
        "history = shallow_model.fit(df_tens, np.array([float(i) for i in target]), epochs=15, batch_size=128, validation_split=0.2)\n"
      ]
    },
    {
      "cell_type": "markdown",
      "source": [
        "# Precision Recall Shallow Model"
      ],
      "metadata": {
        "id": "ALeM4laPWiFD"
      }
    },
    {
      "cell_type": "code",
      "source": [
        "print(history.history)\n",
        "plotilka_precision_recall(history.history)\n",
        "plotilka_ROC(history.history)\n"
      ],
      "metadata": {
        "id": "GgrpMaV-Imyb"
      },
      "execution_count": null,
      "outputs": []
    },
    {
      "cell_type": "markdown",
      "metadata": {
        "id": "XH-0FgXN6zHA"
      },
      "source": [
        "## Deep Tree\n",
        "\n"
      ]
    },
    {
      "cell_type": "code",
      "execution_count": null,
      "metadata": {
        "id": "AyBwNWO1FVTS"
      },
      "outputs": [],
      "source": [
        "deep_model = tf.keras.Sequential([\n",
        "  tf.keras.layers.Dense(1776, activation='relu'),\n",
        "  tf.keras.layers.Dense(1024, activation='relu'),\n",
        "  tf.keras.layers.Dense(512, activation='relu'),\n",
        "  tf.keras.layers.Dense(256, activation='relu'),\n",
        "  tf.keras.layers.Dense(128, activation='relu'),\n",
        "  tf.keras.layers.Dense(64, activation='relu'),\n",
        "  tf.keras.layers.Dense(1, activation='sigmoid'),\n",
        "])\n",
        "\n",
        "deep_model.compile(optimizer=RMSprop(learning_rate=1e-4),\n",
        "              loss=tf.keras.losses.BinaryCrossentropy(),\n",
        "              metrics=['Precision', 'accuracy', Recall(name=\"recall\"), F1Score(), \"TruePositives\", \"FalsePositives\", \"AUC\"])"
      ]
    },
    {
      "cell_type": "code",
      "execution_count": null,
      "metadata": {
        "id": "4sTTIOCbyShY"
      },
      "outputs": [],
      "source": [
        "deep_history = deep_model.fit(df_tens, np.array([float(i) for i in target]), epochs=15, batch_size=256, validation_split=0.2)"
      ]
    },
    {
      "cell_type": "markdown",
      "source": [
        "# Precision Recall Deep Model"
      ],
      "metadata": {
        "id": "hn9OpjYxfl1x"
      }
    },
    {
      "cell_type": "code",
      "source": [
        "print(deep_history.history)\n",
        "plotilka_precision_recall(deep_history.history)\n",
        "plotilka_ROC(deep_history.history)"
      ],
      "metadata": {
        "id": "nEKBRbPlfky2"
      },
      "execution_count": null,
      "outputs": []
    },
    {
      "cell_type": "markdown",
      "source": [
        "# CNN Network"
      ],
      "metadata": {
        "id": "HAltX38SO-UC"
      }
    },
    {
      "cell_type": "code",
      "source": [
        "cnn_model = tf.keras.Sequential([\n",
        "  tf.keras.layers.Conv1D(filters=64, kernel_size=15,\n",
        "                      strides=1,\n",
        "                      activation=\"relu\",\n",
        "                      padding='causal',\n",
        "                      input_shape=[None, 1776]),\n",
        "  tf.keras.layers.LSTM(1024, return_sequences=True),\n",
        "  tf.keras.layers.LSTM(1024),\n",
        "  tf.keras.layers.Dense(256, activation='relu'),\n",
        "  tf.keras.layers.Dense(1, activation='sigmoid'),\n",
        "])\n",
        "\n",
        "cnn_model.compile(optimizer=RMSprop(learning_rate=1e-4),\n",
        "              loss=tf.keras.losses.BinaryCrossentropy(),\n",
        "              metrics=['Precision', 'accuracy', Recall(), F1Score()])"
      ],
      "metadata": {
        "id": "qkM26vVpPElN"
      },
      "execution_count": null,
      "outputs": []
    },
    {
      "cell_type": "code",
      "source": [
        "cnn_model.fit(tf.expand_dims(df_tens, axis=1), np.asarray(target).astype('float32').reshape((-1,1)), epochs=15, batch_size=32, validation_split=0.2)"
      ],
      "metadata": {
        "id": "p5I3n2_2P0hW"
      },
      "execution_count": null,
      "outputs": []
    },
    {
      "cell_type": "markdown",
      "metadata": {
        "id": "ths8EcjQ7CG3"
      },
      "source": [
        "## Shallow Decision Forest\n",
        "\n",
        "\n"
      ]
    },
    {
      "cell_type": "code",
      "execution_count": null,
      "metadata": {
        "id": "TW-vT7eLYAdb"
      },
      "outputs": [],
      "source": [
        "\n",
        "# Maximum number of decision trees. The effective number of trained trees can be smaller if early stopping is enabled.\n",
        "NUM_TREES = 250\n",
        "# Minimum number of examples in a node.\n",
        "MIN_EXAMPLES = 4\n",
        "# Maximum depth of the tree. max_depth=1 means that all trees will be roots.\n",
        "MAX_DEPTH = 2\n",
        "# Ratio of the dataset (sampling without replacement) used to train individual trees for the random sampling method.\n",
        "SUBSAMPLE = 0.65\n",
        "# Control the sampling of the datasets used to train individual trees.\n",
        "SAMPLING_METHOD = \"RANDOM\"\n",
        "# Ratio of the training dataset used to monitor the training. Require to be >0 if early stopping is enabled.\n",
        "VALIDATION_RATIO = 0.2\n",
        "\n",
        "gbt_model = tfdf.keras.GradientBoostedTreesModel(\n",
        "      num_trees=NUM_TREES,\n",
        "      max_depth=MAX_DEPTH,\n",
        "      min_examples=MIN_EXAMPLES,\n",
        "      subsample=SUBSAMPLE,\n",
        "      validation_ratio=VALIDATION_RATIO,\n",
        "      task=tfdf.keras.Task.CLASSIFICATION,\n",
        "      verbose = 2,\n",
        "      sampling_method=SAMPLING_METHOD,\n",
        "      loss = \"BINOMIAL_LOG_LIKELIHOOD\",\n",
        "      early_stopping=\"NONE\"\n",
        "  )\n",
        "\n",
        "gbt_model.compile(metrics=['Precision', 'accuracy', Recall(name=\"recall\"), F1Score()])\n",
        "\n",
        "history = gbt_model.fit(df_tfdf, epochs=1, verbose=2)\n",
        "print(gbt_model.metrics)"
      ]
    },
    {
      "cell_type": "markdown",
      "metadata": {
        "id": "4xWDKTGR7XQd"
      },
      "source": [
        "## Deep Decision Forest\n",
        "\n"
      ]
    },
    {
      "cell_type": "code",
      "execution_count": null,
      "metadata": {
        "id": "unwiKhWn7nqS"
      },
      "outputs": [],
      "source": [
        "\n",
        "\n",
        "\n",
        "# Maximum number of decision trees. The effective number of trained trees can be smaller if early stopping is enabled.\n",
        "NUM_TREES = 250\n",
        "# Minimum number of examples in a node.\n",
        "MIN_EXAMPLES = 4\n",
        "# Maximum depth of the tree. max_depth=1 means that all trees will be roots.\n",
        "MAX_DEPTH = 16\n",
        "# Ratio of the dataset (sampling without replacement) used to train individual trees for the random sampling method.\n",
        "SUBSAMPLE = 0.65\n",
        "# Control the sampling of the datasets used to train individual trees.\n",
        "SAMPLING_METHOD = \"RANDOM\"\n",
        "# Ratio of the training dataset used to monitor the training. Require to be >0 if early stopping is enabled.\n",
        "VALIDATION_RATIO = 0.2\n",
        "\n",
        "gbt_model = tfdf.keras.GradientBoostedTreesModel(\n",
        "      num_trees=NUM_TREES,\n",
        "      max_depth=MAX_DEPTH,\n",
        "      min_examples=MIN_EXAMPLES,\n",
        "      subsample=SUBSAMPLE,\n",
        "      validation_ratio=VALIDATION_RATIO,\n",
        "      task=tfdf.keras.Task.CLASSIFICATION,\n",
        "      verbose = 2,\n",
        "      sampling_method=SAMPLING_METHOD,\n",
        "      loss = \"BINOMIAL_LOG_LIKELIHOOD\",\n",
        "      early_stopping=\"NONE\"\n",
        "  )\n",
        "\n",
        "gbt_model.compile(metrics=['Precision', 'accuracy', Recall(), F1Score()])\n",
        "\n",
        "history = gbt_model.fit(df_tfdf, epochs=1, verbose=2)\n",
        "#accuracy = gbt_model.evaluate(df_tfdf_test, verbose=2)"
      ]
    },
    {
      "cell_type": "markdown",
      "source": [
        "#Conclusion\n",
        "In our experiments, we observed that the model's performance varied depending on the algorithm and hyperparameters. After careful evaluation, we identified a model that achieved an accuracy rate of 79%. This indicates that our best-performing model was able to correctly classify the biological molecule responses with a high degree of accuracy. However, it's essential to consider the specific domain and application to determine if this level of accuracy is sufficient for practical use.\n",
        "\n",
        "In conclusion, this laboratory work provided valuable insights into the application of machine learning techniques for classification tasks, emphasizing the importance of selecting appropriate algorithms, hyperparameters, and evaluation metrics. We have demonstrated that achieving high accuracy is possible, but further considerations, such as domain-specific constraints and business requirements, are crucial in determining the suitability of the model for real-world applications."
      ],
      "metadata": {
        "id": "duIu_KHU2PgE"
      }
    }
  ],
  "metadata": {
    "colab": {
      "private_outputs": true,
      "provenance": [],
      "include_colab_link": true
    },
    "kernelspec": {
      "display_name": "Python 3",
      "language": "python",
      "name": "python3"
    },
    "language_info": {
      "codemirror_mode": {
        "name": "ipython",
        "version": 3
      },
      "file_extension": ".py",
      "mimetype": "text/x-python",
      "name": "python",
      "nbconvert_exporter": "python",
      "pygments_lexer": "ipython3",
      "version": "3.7.4"
    }
  },
  "nbformat": 4,
  "nbformat_minor": 0
}